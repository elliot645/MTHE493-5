{
 "cells": [
  {
   "cell_type": "code",
   "execution_count": null,
   "metadata": {},
   "outputs": [],
   "source": [
    "import pandas as pd\n",
    "\n",
    "df = pd.read_csv(\"C:/Users/ellio/python/MTHE493-5/data/us_county_population_estimates_by_age_2020_to_2023.csv\",dtype=str, encoding='latin1')"
   ]
  },
  {
   "cell_type": "code",
   "execution_count": 52,
   "metadata": {},
   "outputs": [],
   "source": [
    "df = df[[\"STATE\",\"COUNTY\",\"STNAME\",\"CTYNAME\"]].set_index([\"STATE\",\"COUNTY\"]).drop_duplicates()\n",
    "\n",
    "df.to_csv(\"fips.csv\")"
   ]
  },
  {
   "cell_type": "code",
   "execution_count": 58,
   "metadata": {},
   "outputs": [
    {
     "data": {
      "text/plain": [
       "'01'"
      ]
     },
     "execution_count": 58,
     "metadata": {},
     "output_type": "execute_result"
    }
   ],
   "source": [
    "df = pd.read_csv('fips.csv',dtype=str, encoding='latin1').set_index([\"STNAME\",\"CTYNAME\"]).drop_duplicates()\n",
    "\n",
    "df.loc[(\"Alabama\",\"Autauga County\")]['STATE']"
   ]
  },
  {
   "cell_type": "code",
   "execution_count": 4,
   "metadata": {},
   "outputs": [],
   "source": [
    "import pandas as pd\n",
    "\n",
    "abbs = pd.read_csv(\"C:/Users/ellio/python/MTHE493-5/data/countypres_2000-2020.csv\",dtype=str, encoding='latin1')\n",
    "abbs['state'] = abbs['state'].str.title()\n",
    "abbs = abbs[[\"state\",\"state_po\"]].drop_duplicates().set_index('state')\n",
    "abbs['state_abbrev'] = abbs['state_po']\n",
    "del abbs['state_po']\n",
    "abbs.to_csv('state_abbreviations.csv')"
   ]
  },
  {
   "cell_type": "code",
   "execution_count": 1,
   "metadata": {},
   "outputs": [],
   "source": [
    "# import networkx as nx\n",
    "\n",
    "# G = nx.complete_graph(5)\n",
    "# nx.draw(G)"
   ]
  },
  {
   "cell_type": "code",
   "execution_count": 2,
   "metadata": {},
   "outputs": [],
   "source": [
    "# G = nx.circular_ladder_graph(8)\n",
    "# nx.draw(G)\n"
   ]
  },
  {
   "cell_type": "code",
   "execution_count": 3,
   "metadata": {},
   "outputs": [],
   "source": [
    "# G = nx.cycle_graph(8)\n",
    "# nx.draw(G)"
   ]
  },
  {
   "cell_type": "code",
   "execution_count": 4,
   "metadata": {},
   "outputs": [],
   "source": [
    "\n",
    "# G = nx.grid_2d_graph(7,13)\n",
    "# nx.draw(G) "
   ]
  },
  {
   "cell_type": "code",
   "execution_count": 5,
   "metadata": {},
   "outputs": [],
   "source": [
    "\n",
    "# G = nx.hexagonal_lattice_graph(7,7)\n",
    "# nx.draw(G)"
   ]
  },
  {
   "cell_type": "code",
   "execution_count": 6,
   "metadata": {},
   "outputs": [],
   "source": [
    "\n",
    "\n",
    "# G = nx.hypercube_graph(7)\n",
    "# nx.draw(G)"
   ]
  },
  {
   "cell_type": "code",
   "execution_count": 7,
   "metadata": {},
   "outputs": [],
   "source": [
    "# G = nx.grid_graph(dim=(10,3))\n",
    "# nx.draw(G)"
   ]
  }
 ],
 "metadata": {
  "kernelspec": {
   "display_name": "Python 3",
   "language": "python",
   "name": "python3"
  },
  "language_info": {
   "codemirror_mode": {
    "name": "ipython",
    "version": 3
   },
   "file_extension": ".py",
   "mimetype": "text/x-python",
   "name": "python",
   "nbconvert_exporter": "python",
   "pygments_lexer": "ipython3",
   "version": "3.11.0"
  }
 },
 "nbformat": 4,
 "nbformat_minor": 2
}
